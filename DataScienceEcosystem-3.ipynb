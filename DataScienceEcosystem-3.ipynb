{
 "cells": [
  {
   "cell_type": "markdown",
   "id": "140115c1-e1e2-4414-b6ae-7771ed45b742",
   "metadata": {},
   "source": [
    "# Data Science Tools and Ecosystem"
   ]
  },
  {
   "cell_type": "markdown",
   "id": "3086da5e-6b55-4034-a4b8-b9dd29b2b37f",
   "metadata": {},
   "source": [
    "In this notebook, Data Science Tools and Ecosystem are summarized."
   ]
  },
  {
   "cell_type": "markdown",
   "id": "f8e2cc24-f897-4a56-8aee-bcb23182ff68",
   "metadata": {},
   "source": [
    "**Objectives**\n",
    "1. List popular languages for Data Science\n",
    "2. List commonly used libraries used by Data Scientists\n",
    "3. List data science tools"
   ]
  },
  {
   "cell_type": "markdown",
   "id": "37d830c1-c780-454d-9d4a-036eba8455db",
   "metadata": {
    "tags": []
   },
   "source": [
    "Some of the popular languages that Data Scientists use are:\n",
    "1. Python\n",
    "2. R\n",
    "3. Julia"
   ]
  },
  {
   "cell_type": "markdown",
   "id": "99ea4d89-687c-49e1-a90e-0d19ae826e4a",
   "metadata": {},
   "source": [
    "Some of the commonly used libraries used by Data Scientists include:\n",
    "1. NumPy\n",
    "2. Matplotlib\n",
    "3. Pandas"
   ]
  },
  {
   "cell_type": "markdown",
   "id": "dffdbcb0-7a38-4c3c-b4ce-9a62056bd9e3",
   "metadata": {
    "tags": []
   },
   "source": [
    "| Data Science Tools |\n",
    "------------------\n",
    "| Jupyter |\n",
    "| Apache |\n",
    "| RStudio |"
   ]
  },
  {
   "cell_type": "markdown",
   "id": "d2c27fbb-28e2-4993-b64e-ab3a38c2d4b7",
   "metadata": {},
   "source": [
    "### Below are a few examples of evaluating arithmetic expressions in Python"
   ]
  },
  {
   "cell_type": "markdown",
   "id": "748e460d-189f-45f9-b3f5-c0b0443c7725",
   "metadata": {},
   "source": [
    " This a simple arithmetic expression to mutiply then add integers"
   ]
  },
  {
   "cell_type": "code",
   "execution_count": 8,
   "id": "58ebe210-9f95-4d2f-9a97-d65deb057101",
   "metadata": {
    "tags": []
   },
   "outputs": [
    {
     "data": {
      "text/plain": [
       "17"
      ]
     },
     "execution_count": 8,
     "metadata": {},
     "output_type": "execute_result"
    }
   ],
   "source": [
    "(3*4)+5"
   ]
  },
  {
   "cell_type": "markdown",
   "id": "ec191b99-01e5-402d-aa17-2938a7805ddb",
   "metadata": {},
   "source": [
    " This will convert 200 minutes to hours by diving by 60"
   ]
  },
  {
   "cell_type": "code",
   "execution_count": 9,
   "id": "7fa92718-f61f-4940-ad5b-6fd8006237a4",
   "metadata": {
    "tags": []
   },
   "outputs": [
    {
     "data": {
      "text/plain": [
       "3.3333333333333335"
      ]
     },
     "execution_count": 9,
     "metadata": {},
     "output_type": "execute_result"
    }
   ],
   "source": [
    "200/60"
   ]
  },
  {
   "cell_type": "markdown",
   "id": "220a9484-5eb6-4b34-b529-693a8e62cc36",
   "metadata": {},
   "source": [
    "## Author"
   ]
  },
  {
   "cell_type": "markdown",
   "id": "cac6060e-b5e3-4c2c-8926-59dc550aa137",
   "metadata": {},
   "source": [
    "Julia"
   ]
  }
 ],
 "metadata": {
  "kernelspec": {
   "display_name": "Python",
   "language": "python",
   "name": "conda-env-python-py"
  },
  "language_info": {
   "codemirror_mode": {
    "name": "ipython",
    "version": 3
   },
   "file_extension": ".py",
   "mimetype": "text/x-python",
   "name": "python",
   "nbconvert_exporter": "python",
   "pygments_lexer": "ipython3",
   "version": "3.7.12"
  }
 },
 "nbformat": 4,
 "nbformat_minor": 5
}
